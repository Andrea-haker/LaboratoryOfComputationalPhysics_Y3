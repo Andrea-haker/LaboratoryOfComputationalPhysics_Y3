{
 "cells": [
  {
   "cell_type": "markdown",
   "metadata": {},
   "source": [
    "1\\. Write the following as a list comprehension"
   ]
  },
  {
   "cell_type": "code",
   "execution_count": null,
   "metadata": {},
   "outputs": [],
   "source": [
    "# 1\n",
    "ans = []\n",
    "for i in range(3):\n",
    "    for j in range(4):\n",
    "        ans.append((i, j))\n",
    "print (ans)\n",
    "\n",
    "# 2\n",
    "ans = map(lambda x: x*x, filter(lambda x: x%2 == 0, range(5)))\n",
    "print (list(ans))\n",
    "\n"
   ]
  },
  {
   "cell_type": "code",
   "execution_count": null,
   "metadata": {},
   "outputs": [],
   "source": [
    "ans = [[i,j] for i in range(3) for j in range(4)  ]\n",
    "print(ans)\n",
    "\n",
    "ans2 = [ x**2 for x in filter(lambda x: x%2 ==0, range(5))]\n",
    "print(ans2)"
   ]
  },
  {
   "cell_type": "markdown",
   "metadata": {},
   "source": [
    "2\\. Convert the following function into a pure function with no global variables or side effects"
   ]
  },
  {
   "cell_type": "code",
   "execution_count": null,
   "metadata": {},
   "outputs": [],
   "source": [
    "x = 5\n",
    "def f(alist):\n",
    "    for i in range(x):\n",
    "         alist.append(i)\n",
    "    return alist\n",
    "\n",
    "alist = [1,2,3]\n",
    "ans = f(alist)\n",
    "print (ans)\n",
    "print (alist) # alist has been changed!"
   ]
  },
  {
   "cell_type": "code",
   "execution_count": null,
   "metadata": {},
   "outputs": [],
   "source": [
    "def f(alist):\n",
    "    x = 5\n",
    "    alist2 = [alist[i] for i in range(0,len(alist))]\n",
    "    for i in range(x):\n",
    "         alist2.append(i)\n",
    "    return alist2\n",
    "\n",
    "alist = [1,2,3]\n",
    "ans = f(alist)\n",
    "print(alist)\n",
    "print(ans)\n"
   ]
  },
  {
   "cell_type": "markdown",
   "metadata": {},
   "source": [
    "3\\. Write a `decorator` hello that makes every wrapped function print “Hello!”, i.e. something like:\n",
    "\n",
    "```python\n",
    "@hello\n",
    "def square(x):\n",
    "    return x*x\n",
    "```\n",
    "\n"
   ]
  },
  {
   "cell_type": "code",
   "execution_count": null,
   "metadata": {},
   "outputs": [],
   "source": [
    "def decorator(func):\n",
    "    def wrapper():\n",
    "        print(\"Hello!\")\n",
    "        func()\n",
    "    return wrapper\n",
    "\n",
    "@decorator\n",
    "def say_woohoo():\n",
    "    print(\"woohoo!\")\n",
    "\n",
    "say_woohoo()\n"
   ]
  },
  {
   "cell_type": "markdown",
   "metadata": {},
   "source": [
    "4\\. Write the factorial function so that it a) does and b) does not use recursion."
   ]
  },
  {
   "cell_type": "code",
   "execution_count": null,
   "metadata": {},
   "outputs": [],
   "source": [
    "def f1(n):\n",
    "    if n == 1 or n == 0:\n",
    "        return 1\n",
    "    else:\n",
    "        return n*f1(n-1)\n",
    "    \n",
    "print(f1(1))\n",
    "\n",
    "def f2(n):\n",
    "    a,b = 1,1\n",
    "    for i in range(1,n):\n",
    "        a, b = b, b*(i+1)\n",
    "    return b\n",
    "\n",
    "print(f2(6))"
   ]
  },
  {
   "cell_type": "markdown",
   "metadata": {},
   "source": [
    "5\\. Use HOFs (zip in particular) to compute the weight of a circle, a disk and a sphere, assuming different radii and different densities:\n",
    "\n",
    "```python\n",
    "densities = {\"Al\":[0.5,1,2],\"Fe\":[3,4,5],\"Pb\": [15,20,30]}\n",
    "radii = [1,2,3]\n",
    "```\n",
    "\n",
    "where the entries of the dictionary's values are the linear, superficial and volumetric densities of the materials respectively.\n",
    "\n",
    "In particular define a list of three lambda functions using a comprehension that computes the circumference, the area and the volume for a given radius.\n"
   ]
  },
  {
   "cell_type": "code",
   "execution_count": null,
   "metadata": {},
   "outputs": [],
   "source": [
    "densities = {\"Al\":[0.5,1,2],\"Fe\":[3,4,5],\"Pb\": [15,20,30]}\n",
    "radii = [1,2,3]\n",
    "\n",
    "import math as m\n",
    "\n",
    "def custom_weight(dens, radii):\n",
    "    a = []\n",
    "    \n",
    "    # funzione per ottenere gli ipervolumi dai raggi \n",
    "    def func(i,x):\n",
    "    b = ((i-2)*(i-1)*2/3 + (i-3)*(i-2) - (i-3)*(i-1))*m.pi*pow(x,i)\n",
    "    return b\n",
    "    \n",
    "    # lista di funzioni per ottenere i pesi dati raggio e densità\n",
    "    list = [lambda x,y,i =i : y*func(i,x) for i in range(1,4)]\n",
    "    \n",
    "    # ciclo per ottenrere la lista con i pesi\n",
    "    for chiave in dens.keys():\n",
    "        a.append(chiave)\n",
    "        for b,c,d in zip(radii, dens.get(chiave), list):\n",
    "            a.append(d(b,c))\n",
    "    return(a)\n",
    "\n",
    "\n",
    "\n",
    "\n",
    "\n",
    "risul = custom_weight(densities, radii)\n",
    "print(risul)\n",
    "\n"
   ]
  },
  {
   "cell_type": "markdown",
   "metadata": {},
   "source": [
    "6\\. Edit the class defintion to add an instance attribute of is_hungry = True to the Dog class. Then add a method called eat() which changes the value of is_hungry to False when called. Figure out the best way to feed each dog and then output “My dogs are hungry.” if all are hungry or “My dogs are not hungry.” if all are not hungry. The final output should look like this:\n",
    "\n",
    "`I have 3 dogs. \n",
    "Tom is 6. \n",
    "Fletcher is 7. \n",
    "Larry is 9. \n",
    "And they're all mammals, of course. \n",
    "My dogs are not hungry.\n",
    "`\n"
   ]
  },
  {
   "cell_type": "code",
   "execution_count": 25,
   "metadata": {},
   "outputs": [
    {
     "name": "stdout",
     "output_type": "stream",
     "text": [
      "Il mio cane \n",
      " Nome:Tom\n",
      " Età:6 \n",
      " Ha fame? True \n",
      " Of course he is a mammal\n",
      "Il mio cane \n",
      " Nome:Larry\n",
      " Età:9 \n",
      " Ha fame? True \n",
      " Of course he is a mammal\n",
      "Il mio cane \n",
      " Nome:Fletcher\n",
      " Età:7 \n",
      " Ha fame? True \n",
      " Of course he is a mammal\n",
      "Il mio cane \n",
      " Nome:Tom\n",
      " Età:6 \n",
      " Ha fame? False \n",
      " Of course he is a mammal\n",
      "Il mio cane \n",
      " Nome:Larry\n",
      " Età:9 \n",
      " Ha fame? False \n",
      " Of course he is a mammal\n",
      "Il mio cane \n",
      " Nome:Fletcher\n",
      " Età:7 \n",
      " Ha fame? False \n",
      " Of course he is a mammal\n"
     ]
    },
    {
     "data": {
      "text/plain": [
       "\"They're not hungry\""
      ]
     },
     "execution_count": 25,
     "metadata": {},
     "output_type": "execute_result"
    }
   ],
   "source": [
    "class Dog:\n",
    "\n",
    "    # Class attribute\n",
    "    species = 'mammal'\n",
    "    \n",
    "    # Initializer / Instance attributes\n",
    "    def __init__(self, name, age):\n",
    "        self.name = name\n",
    "        self.age = age\n",
    "        self.is_hungry = True\n",
    "        self.species = \"mammal\"\n",
    "\n",
    " \n",
    "    def eat(self):\n",
    "        self.is_hungry = False\n",
    "\n",
    "    def il_mio_cane(self):\n",
    "        return f\"Il mio cane \\n Nome:{self.name}\\n Età:{self.age} \\n Ha fame? {self.is_hungry} \\n Of course he is a {self.species}\"\n",
    "    \n",
    "    def feed(self,list):\n",
    "        for i in range(0, len(list)):\n",
    "            self.eat(list[i])\n",
    "    \n",
    "    def feed_control(self,list):\n",
    "        a = []\n",
    "        for i in range(0, len(list)):\n",
    "            n = list[i].is_hungry\n",
    "            a.append(n)\n",
    "        if all(a) == True:\n",
    "            return \"They're hungry\"\n",
    "        if any(a) == False:\n",
    "            return \"They're not hungry\"\n",
    "        \n",
    "    \n",
    "        \n",
    "        \n",
    "    \n",
    "  \n",
    "    \n",
    "    \n",
    "Tom = Dog(\"Tom\",6)\n",
    "Fletcher = Dog(\"Fletcher\",7)\n",
    "Larry = Dog(\"Larry\",9)\n",
    "\n",
    "dogs = [Tom, Fletcher, Larry]\n",
    "\n",
    "\n",
    "print(Dog.il_mio_cane(Tom))\n",
    "print(Dog.il_mio_cane(Larry))\n",
    "print(Dog.il_mio_cane(Fletcher))\n",
    "\n",
    "\n",
    "Dog.feed(Dog, dogs)\n",
    "\n",
    "print(Dog.il_mio_cane(Tom))\n",
    "print(Dog.il_mio_cane(Larry))\n",
    "print(Dog.il_mio_cane(Fletcher))\n",
    "\n",
    "\n",
    "Dog.feed_control(Dog,dogs)\n",
    "\n",
    "   "
   ]
  },
  {
   "cell_type": "code",
   "execution_count": null,
   "metadata": {},
   "outputs": [],
   "source": [
    " # instance method\n",
    "    def description(self):\n",
    "        return \"{} is {} years old\".format(self.name, self.age)\n",
    "\n",
    "    # instance method\n",
    "    def speak(self, sound):\n",
    "        return \"{} says {}\".format(self.name, sound)\n",
    "\n",
    "# Child class (inherits from Dog class)\n",
    "class RussellTerrier(Dog):\n",
    "    def run(self, speed):\n",
    "        return \"{} runs {}\".format(self.name, speed)\n",
    "\n",
    "# Child class (inherits from Dog class)\n",
    "class Bulldog(Dog):\n",
    "    def run(self, speed):\n",
    "        return \"{} runs {}\".format(self.name, speed)"
   ]
  }
 ],
 "metadata": {
  "kernelspec": {
   "display_name": "Python 3",
   "language": "python",
   "name": "python3"
  },
  "language_info": {
   "codemirror_mode": {
    "name": "ipython",
    "version": 3
   },
   "file_extension": ".py",
   "mimetype": "text/x-python",
   "name": "python",
   "nbconvert_exporter": "python",
   "pygments_lexer": "ipython3",
   "version": "3.8.3"
  }
 },
 "nbformat": 4,
 "nbformat_minor": 2
}
