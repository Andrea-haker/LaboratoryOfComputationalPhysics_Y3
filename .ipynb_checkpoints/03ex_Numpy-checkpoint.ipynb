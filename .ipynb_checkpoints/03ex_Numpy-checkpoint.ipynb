{
 "cells": [
  {
   "cell_type": "markdown",
   "metadata": {},
   "source": [
    "### Numpy basics"
   ]
  },
  {
   "cell_type": "markdown",
   "metadata": {},
   "source": [
    "1\\. Find the row, column and overall means for the following matrix:\n",
    "\n",
    "```python\n",
    "m = np.arange(12).reshape((3,4))\n",
    "```"
   ]
  },
  {
   "cell_type": "code",
   "execution_count": 2,
   "metadata": {},
   "outputs": [
    {
     "name": "stdout",
     "output_type": "stream",
     "text": [
      "[[ 0  1  2  3]\n",
      " [ 4  5  6  7]\n",
      " [ 8  9 10 11]]\n",
      "5.5\n",
      "[4. 5. 6. 7.]\n",
      "[1.5 5.5 9.5]\n"
     ]
    }
   ],
   "source": [
    "import numpy as np\n",
    "m = np.arange(12).reshape((3,4))\n",
    "print(m)\n",
    "print(np.mean(m))\n",
    "print(np.mean(m,0))\n",
    "print(np.mean(m,1))"
   ]
  },
  {
   "cell_type": "markdown",
   "metadata": {},
   "source": [
    "2\\. Find the outer product of the following two vecotrs\n",
    "\n",
    "```python\n",
    "u = np.array([1,3,5,7])\n",
    "v = np.array([2,4,6,8])\n",
    "```\n",
    "\n",
    "Do this in the following ways:\n",
    "\n",
    "   * Using the function outer in numpy\n",
    "   * Using a nested for loop or list comprehension\n",
    "   * Using numpy broadcasting operatoins\n"
   ]
  },
  {
   "cell_type": "code",
   "execution_count": 8,
   "metadata": {
    "scrolled": true
   },
   "outputs": [
    {
     "name": "stdout",
     "output_type": "stream",
     "text": [
      "[[ 2  4  6  8]\n",
      " [ 6 12 18 24]\n",
      " [10 20 30 40]\n",
      " [14 28 42 56]]\n",
      "[[ 2  4  6  8]\n",
      " [ 6 12 18 24]\n",
      " [10 20 30 40]\n",
      " [14 28 42 56]]\n",
      "[[ 2  4  6  8]\n",
      " [ 6 12 18 24]\n",
      " [10 20 30 40]\n",
      " [14 28 42 56]]\n"
     ]
    }
   ],
   "source": [
    "u = np.array([1,3,5,7])\n",
    "v = np.array([2,4,6,8])\n",
    "\n",
    "#primo metodo\n",
    "d = np.outer(u,v)\n",
    "print(d)\n",
    "\n",
    "#secondo metodo\n",
    "for i in range(0,len(u)):\n",
    "    a = (u[i]*v)[0] \n",
    "    \n",
    "    b = (u[i]*v)[1]\n",
    "    \n",
    "    c = (u[i]*v)[2]\n",
    "    \n",
    "    d = (u[i]*v)[3]\n",
    "    \n",
    "    if i == 0:\n",
    "        outer = np.array([[a,b,c,d]])\n",
    "    else: \n",
    "        l = np.array([[a,b,c,d]])\n",
    "        outer = np.concatenate((outer,l), axis=0)\n",
    "        l = np.array([])\n",
    "print(outer) \n",
    "#terzo metodo\n",
    "o = np.tile(u,(4,1)).T * np.tile(v,(4,1))\n",
    "print(o)"
   ]
  },
  {
   "cell_type": "markdown",
   "metadata": {},
   "source": [
    "3\\. Create a 10 by 6 matrix of random uniform numbers. Set all rows with any entry less than 0.1 to be zero\n",
    "\n",
    "Hint: Use the following numpy functions - np.random.random, np.any as well as Boolean indexing and the axis argument."
   ]
  },
  {
   "cell_type": "code",
   "execution_count": null,
   "metadata": {},
   "outputs": [],
   "source": [
    "import numpy.random as npr\n",
    "npr.seed(123)\n",
    "\n",
    "a = npr.rand(10,6)\n",
    "\n",
    "for i in range(0,10):\n",
    "    for j in range(0,6):\n",
    "        if a[i][j] < 0.1:\n",
    "            for k in range(0,6):\n",
    "                a[i][k] = 0\n",
    "            i =i+1\n",
    "        \n",
    "print(a)        \n"
   ]
  },
  {
   "cell_type": "markdown",
   "metadata": {},
   "source": [
    "4\\. Use np.linspace to create an array of 100 numbers between 0 and 2π (includsive).\n",
    "\n",
    "  * Extract every 10th element using slice notation\n",
    "  * Reverse the array using slice notation\n",
    "  * Extract elements where the absolute difference between the sine and cosine functions evaluated at that element is less than 0.1\n",
    "  * Make a plot showing the sin and cos functions and indicate where they are close"
   ]
  },
  {
   "cell_type": "code",
   "execution_count": 7,
   "metadata": {},
   "outputs": [
    {
     "name": "stdout",
     "output_type": "stream",
     "text": [
      "[0.         0.06283185 0.12566371 0.18849556 0.25132741 0.31415927\n",
      " 0.37699112 0.43982297 0.50265482 0.56548668 0.69115038 0.75398224\n",
      " 0.81681409 0.87964594 0.9424778  1.00530965 1.0681415  1.13097336\n",
      " 1.19380521 1.25663706 1.38230077 1.44513262 1.50796447 1.57079633\n",
      " 1.63362818 1.69646003 1.75929189 1.82212374 1.88495559 1.94778745\n",
      " 2.07345115 2.136283   2.19911486 2.26194671 2.32477856 2.38761042\n",
      " 2.45044227 2.51327412 2.57610598 2.63893783 2.76460154 2.82743339\n",
      " 2.89026524 2.95309709 3.01592895 3.0787608  3.14159265 3.20442451\n",
      " 3.26725636 3.33008821 3.45575192 3.51858377 3.58141563 3.64424748\n",
      " 3.70707933 3.76991118 3.83274304 3.89557489 3.95840674 4.0212386\n",
      " 4.1469023  4.20973416 4.27256601 4.33539786 4.39822972 4.46106157\n",
      " 4.52389342 4.58672527 4.64955713 4.71238898 4.83805269 4.90088454\n",
      " 4.96371639 5.02654825 5.0893801  5.15221195 5.2150438  5.27787566\n",
      " 5.34070751 5.40353936 5.52920307 5.59203492 5.65486678 5.71769863\n",
      " 5.78053048 5.84336234 5.90619419 5.96902604 6.03185789 6.09468975\n",
      " 6.22035345]\n",
      "[0.8168140899333463, 3.9584067435231396]\n"
     ]
    },
    {
     "data": {
      "image/png": "[encoded data removed]",
      "text/plain": [
       "<Figure size 432x288 with 1 Axes>"
      ]
     },
     "metadata": {
      "needs_background": "light"
     },
     "output_type": "display_data"
    }
   ],
   "source": [
    "import matplotlib.pyplot as plt\n",
    "import math as m\n",
    "\n",
    "#la lista con i numeri da 0 a 2 pi\n",
    "f = np.arange(0, 2*m.pi ,2*m.pi/100)\n",
    "\n",
    "\n",
    "#estraggo i termini\n",
    "for i in range(1,10):\n",
    "    f = np.delete(f,10*i)\n",
    "print(f)\n",
    "\n",
    "#liste con seno e coseno\n",
    "a = np.sin(f)\n",
    "b = np.cos(f)\n",
    "l = []\n",
    "\n",
    "#estraggo i termini che distano meno di 0.1\n",
    "for i in range(0,len(f)-2):\n",
    "    if (a[i] - b[i])**2 < 0.01:\n",
    "        f = np.delete(f, i)\n",
    "        a = np.delete(a,i)\n",
    "        b = np.delete(b,i)\n",
    "        l.append(f[i])\n",
    "#dentro \"l\" ci metto i termini estratti\n",
    "print(l)\n",
    "d = np.sin(l)\n",
    "#plot\n",
    "plt.plot(f,a, \"r--\",f,b,\"b--\", l,d,\"bs\");"
   ]
  },
  {
   "cell_type": "markdown",
   "metadata": {},
   "source": [
    "5\\. Create a matrix that shows the 10 by 10 multiplication table.\n",
    "\n",
    " * Find the trace of the matrix\n",
    " * Extract the anto-diagonal (this should be ```array([10, 18, 24, 28, 30, 30, 28, 24, 18, 10])```)\n",
    " * Extract the diagnoal offset by 1 upwards (this should be ```array([ 2,  6, 12, 20, 30, 42, 56, 72, 90])```)"
   ]
  },
  {
   "cell_type": "code",
   "execution_count": null,
   "metadata": {},
   "outputs": [],
   "source": [
    "#la matrice\n",
    "for i in range(0,10):\n",
    "    if i == 0:\n",
    "        o = np.array([np.arange(1,11)])\n",
    "    else: \n",
    "        o = np.concatenate((o,np.array([(i+1)*np.arange(1,11)])),axis = 0)\n",
    "\n",
    "print(o)\n",
    "\n",
    "#calcolo la traccia\n",
    "tr = 0\n",
    "for i in range(0,10):\n",
    "    tr = tr+ o[i][i]\n",
    "print(tr)\n",
    "\n",
    "\n",
    "#estraggo la prima lista\n",
    "for i in range(0,10):\n",
    "    if i ==0:\n",
    "        ad = np.array(o[9-i][i])\n",
    "    else:\n",
    "        ad = np.append(ad,o[9-i][i])\n",
    "\n",
    "print(ad)\n",
    "\n",
    "#estraggo l'antidiagonale\n",
    "for i in range(0,9):\n",
    "    if i ==0:\n",
    "        diag = np.array(o[i+1][i])\n",
    "    else:\n",
    "        diag = np.append(diag,o[i+1][i])\n",
    "\n",
    "print(diag)\n",
    "\n"
   ]
  },
  {
   "cell_type": "markdown",
   "metadata": {},
   "source": [
    "6\\. Use broadcasting to create a grid of distances\n",
    "\n",
    "Route 66 crosses the following cities in the US: Chicago, Springfield, Saint-Louis, Tulsa, Oklahoma City, Amarillo, Santa Fe, Albuquerque, Flagstaff, Los Angeles\n",
    "The corresponding positions in miles are: 0, 198, 303, 736, 871, 1175, 1475, 1544, 1913, 2448\n",
    "\n",
    "  * Construct a 2D grid of distances among each city along Route 66\n",
    "  * Convert that in km (those savages...)"
   ]
  },
  {
   "cell_type": "code",
   "execution_count": null,
   "metadata": {},
   "outputs": [],
   "source": [
    "y = np.array([0, 198, 303, 736, 871, 1175, 1475, 1544, 1913, 2448])\n",
    "\n",
    "b = (-y.reshape(10,1))\n",
    "\n",
    "q = y+b\n",
    "\n",
    "for i in range(0,10):\n",
    "    for j in range(0,i):\n",
    "        if q[i][j] < 0:\n",
    "            q[i][j] = -q[i][j]\n",
    "print(q)\n",
    "\n",
    "#ora in kilometri\n",
    "print(q*1.60934)       "
   ]
  },
  {
   "cell_type": "markdown",
   "metadata": {},
   "source": [
    "7\\. Prime numbers sieve: compute the prime numbers in the 0-N (N=99 to start with) range with a sieve (mask).\n",
    "  * Constract a shape (100,) boolean array, the mask\n",
    "  * Identify the multiples of each number starting from 2 and set accordingly the corresponding mask element\n",
    "  * Apply the mask to obtain an array of ordered prime numbers\n",
    "  * Check the performances (timeit); how does it scale with N?\n",
    "  * Implement the optimization suggested in the [sieve of Eratosthenes](https://en.wikipedia.org/wiki/Sieve_of_Eratosthenes)"
   ]
  },
  {
   "cell_type": "code",
   "execution_count": 9,
   "metadata": {},
   "outputs": [
    {
     "name": "stdout",
     "output_type": "stream",
     "text": [
      "51.8 ms ± 408 µs per loop (mean ± std. dev. of 7 runs, 10 loops each)\n",
      "4.91 s ± 117 ms per loop (mean ± std. dev. of 7 runs, 1 loop each)\n",
      "7min 52s ± 2.63 s per loop (mean ± std. dev. of 7 runs, 1 loop each)\n"
     ]
    }
   ],
   "source": [
    "import timeit\n",
    "def prime(x):\n",
    "\n",
    "    number = np.arange(x)\n",
    "\n",
    "\n",
    "\n",
    "    for i in range(0,len(number)):\n",
    "        mask = (number % (i+2) == 0)\n",
    "        for l in range(0,len(number)):\n",
    "            if number[l] == i+2:\n",
    "                a = i+3 \n",
    "        for j in range(a,len(number)):\n",
    "            if mask[j] == True:\n",
    "                mask[j] = 1\n",
    "                number[j] = 1\n",
    "\n",
    "    o = np.array([])\n",
    "    for i in range(0,len(number)):\n",
    "        if number[i] != 0 and number[i] != 1:\n",
    "            o  = np.append(o,number[i])\n",
    "    return(o)\n",
    "\n",
    "%timeit uno = prime(100)\n",
    "%timeit due = prime(1000)\n",
    "%timeit tre = prime(10000)\n"
   ]
  },
  {
   "cell_type": "markdown",
   "metadata": {},
   "source": [
    "8\\. Diffusion using random walk\n",
    "\n",
    "Consider a simple random walk process: at each step in time, a walker jumps right or left (+1 or -1) with equal probability. The goal is to find the typical distance from the origin of a random walker after a given amount of time. \n",
    "To do that, let's simulate many walkers and create a 2D array with each walker as a raw and the actual time evolution as columns\n",
    "\n",
    "  * Take 1000 walkers and let them walk for 200 steps\n",
    "  * Use randint to create a 2D array of size walkers x steps with values -1 or 1\n",
    "  * Build the actual walking distances for each walker (i.e. another 2D array \"summing on each raw\")\n",
    "  * Take the square of that 2D array (elementwise)\n",
    "  * Compute the mean of the squared distances at each step (i.e. the mean along the columns)\n",
    "  * Plot the average distances (sqrt(distance\\*\\*2)) as a function of time (step)\n",
    "  \n",
    "Did you get what you expected?"
   ]
  },
  {
   "cell_type": "code",
   "execution_count": 10,
   "metadata": {},
   "outputs": [
    {
     "ename": "NameError",
     "evalue": "name 'plt' is not defined",
     "output_type": "error",
     "traceback": [
      "\u001b[1;31m---------------------------------------------------------------------------\u001b[0m",
      "\u001b[1;31mNameError\u001b[0m                                 Traceback (most recent call last)",
      "\u001b[1;32m<ipython-input-10-49adefb5ece7>\u001b[0m in \u001b[0;36m<module>\u001b[1;34m\u001b[0m\n\u001b[0;32m     25\u001b[0m \u001b[0mmean\u001b[0m \u001b[1;33m=\u001b[0m \u001b[0mdist2\u001b[0m\u001b[1;33m**\u001b[0m\u001b[1;36m0.5\u001b[0m\u001b[1;33m\u001b[0m\u001b[1;33m\u001b[0m\u001b[0m\n\u001b[0;32m     26\u001b[0m \u001b[1;33m\u001b[0m\u001b[0m\n\u001b[1;32m---> 27\u001b[1;33m \u001b[0mplt\u001b[0m\u001b[1;33m.\u001b[0m\u001b[0mplot\u001b[0m\u001b[1;33m(\u001b[0m\u001b[0mmean\u001b[0m\u001b[1;33m,\u001b[0m\u001b[1;34m\"r--\"\u001b[0m\u001b[1;33m)\u001b[0m\u001b[1;33m\u001b[0m\u001b[1;33m\u001b[0m\u001b[0m\n\u001b[0m",
      "\u001b[1;31mNameError\u001b[0m: name 'plt' is not defined"
     ]
    }
   ],
   "source": [
    "for i in range (0,200):\n",
    "    if i ==0:\n",
    "        rando = np.array([2*(np.random.randint(0, 2, 1000))-1])\n",
    "    else:\n",
    "        a = np.array([2*(np.random.randint(0, 2, 1000))-1])\n",
    "        rando = np.concatenate((rando,a),axis =0)\n",
    "\n",
    "\n",
    "\n",
    "\n",
    "for i in range (0,200):\n",
    "    if i ==0:\n",
    "        rand = np.array([2*(np.random.randint(0, 2, 1000))-1])\n",
    "    else:\n",
    "        a = np.array([2*(np.random.randint(0, 2, 1000))-1])\n",
    "        b = a + rand[i-1]\n",
    "        rand = np.concatenate((rand,b),axis =0)\n",
    "\n",
    "\n",
    "rand2 = rand**2\n",
    "\n",
    "\n",
    "dist2 = np.mean(rand2,1)\n",
    "\n",
    "mean = dist2**0.5\n",
    "\n",
    "plt.plot(mean,\"r--\")"
   ]
  },
  {
   "cell_type": "markdown",
   "metadata": {},
   "source": [
    "9\\. Analyze a data file \n",
    "  * Download the population of hares, lynxes and carrots at the beginning of the last century.\n",
    "    ```python\n",
    "    ! wget https://www.dropbox.com/s/3vigxoqayo389uc/populations.txt\n",
    "    ```\n",
    "\n",
    "  * Check the content by looking within the file\n",
    "  * Load the data (use an appropriate numpy method) into a 2D array\n",
    "  * Create arrays out of the columns, the arrays being (in order): *year*, *hares*, *lynxes*, *carrots* \n",
    "  * Plot the 3 populations over the years\n",
    "  * Compute the main statistical properties of the dataset (mean, std, correlations, etc.)\n",
    "  * Which species has the highest population each year?\n",
    "\n",
    "Do you feel there is some evident correlation here? [Studies](https://www.enr.gov.nt.ca/en/services/lynx/lynx-snowshoe-hare-cycle) tend to believe so."
   ]
  },
  {
   "cell_type": "code",
   "execution_count": 24,
   "metadata": {},
   "outputs": [
    {
     "name": "stdout",
     "output_type": "stream",
     "text": [
      "[[1.         0.07189206]\n",
      " [0.07189206 1.        ]]\n",
      "[[ 1.         -0.68057717]\n",
      " [-0.68057717  1.        ]]\n",
      "[[ 1.         -0.01660378]\n",
      " [-0.01660378  1.        ]]\n",
      "['carrots' 'carrots' 'hare' 'hare' 'lynx' 'lynx' 'carrots' 'carrots'\n",
      " 'carrots' 'carrots' 'carrots' 'carrots' 'hare' 'hare' 'hare' 'lynx'\n",
      " 'carrots' 'carrots' 'carrots' 'carrots' 'carrots']\n"
     ]
    },
    {
     "data": {
      "image/png": "[encoded data removed]",
      "text/plain": [
       "<Figure size 432x288 with 1 Axes>"
      ]
     },
     "metadata": {
      "needs_background": "light"
     },
     "output_type": "display_data"
    }
   ],
   "source": [
    "text_file = open(\"populations.txt\", \"r\")\n",
    "lines = text_file.readlines()\n",
    "\n",
    "text_file.close()\n",
    "\n",
    "                                    \n",
    "lines.pop(0)                         \n",
    "\n",
    "for i in range(0,len(lines)):\n",
    "    if i ==0:\n",
    "        \n",
    "        linee = lines[i].split(\"\\t\")\n",
    "        for j in range(0,len(linee)):\n",
    "            linee[j] = float(linee[j])\n",
    "        a = np.array([linee])\n",
    "      \n",
    "    else:\n",
    "        linee = lines[i].split(\"\\t\")\n",
    "        \n",
    "        for j in range(0,len(linee)):\n",
    "            linee[j] = float(linee[j])\n",
    "        a = np.concatenate((a,[linee]),axis = 0)\n",
    "\n",
    "x = np.transpose(a)\n",
    "plt.plot(x[0],x[1],\"r--\"),\n",
    "plt.plot(x[0],x[2],\"b--\")\n",
    "plt.plot(x[0],x[3],\"g--\")\n",
    "\n",
    "meanhare = np.mean(x[1])\n",
    "meanlynx = np.mean(x[2])\n",
    "meancarrots = np.mean(x[3])\n",
    "\n",
    "stdhare = np.std(x[1])\n",
    "stdlynx = np.std(x[2])\n",
    "stdcarrots = np.std(x[3])\n",
    "\n",
    "corr_hare_lynx = np.corrcoef(x[1],x[2])\n",
    "corr_lynx_carrots = np.corrcoef(x[2],x[3])\n",
    "corr_carrots_hare = np.corrcoef(x[3],x[1])\n",
    "\n",
    "print(\"Le correlazioni tra le liste sono le seguenti\")\n",
    "\n",
    "print (corr_hare_lynx)\n",
    "print (corr_lynx_carrots)\n",
    "print (corr_carrots_hare)\n",
    "\n",
    "\n",
    "population = np.array([])\n",
    "for i in range(0,len(x[0])):\n",
    "    if x[1][i]> x[2][i] and x[1][i]> x[3][i]:\n",
    "        population = np.append(population,\"hare\")\n",
    "    elif x[2][i]> x[3][i] and x[2][i]> x[1][i]:\n",
    "        population = np.append(population,\"lynx\")\n",
    "    elif x[3][i]> x[1][i] and x[3][i]> x[2][i]:\n",
    "        population = np.append(population,\"carrots\")\n",
    "        \n",
    "print(\"Le popolazioni più presenti per ogni anno sono le seguenti\")\n",
    "print(population)"
   ]
  },
  {
   "cell_type": "code",
   "execution_count": null,
   "metadata": {},
   "outputs": [],
   "source": []
  }
 ],
 "metadata": {
  "kernelspec": {
   "display_name": "Python 3",
   "language": "python",
   "name": "python3"
  },
  "language_info": {
   "codemirror_mode": {
    "name": "ipython",
    "version": 3
   },
   "file_extension": ".py",
   "mimetype": "text/x-python",
   "name": "python",
   "nbconvert_exporter": "python",
   "pygments_lexer": "ipython3",
   "version": "3.8.3"
  }
 },
 "nbformat": 4,
 "nbformat_minor": 2
}
