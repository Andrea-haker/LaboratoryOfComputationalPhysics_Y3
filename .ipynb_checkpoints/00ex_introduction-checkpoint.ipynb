{
 "cells": [
  {
   "cell_type": "markdown",
   "metadata": {},
   "source": [
    "1. The MickeyMouse problem\n",
    "\n",
    "a) Write a program that prints the numbers from 1 to 100. But for multiples of three print Mickey instead of the number and for the multiples of five print Mouse. For numbers which are multiples of both three and five print MickeyMouse\n",
    "\n",
    "b) Put the result in a tuple and substitute Mickey with Donald and Mouse with Duck"
   ]
  },
  {
   "cell_type": "code",
   "execution_count": null,
   "metadata": {},
   "outputs": [],
   "source": [
    "a = [b for b in range(100)]\n",
    "for i in range(1,100):\n",
    "\n",
    " if i%3 > 0 and i%5 > 0: \n",
    "    print(i) \n",
    "    a[i] = i\n",
    "    print(a[i])\n",
    " elif    i%3 == 0 and i%5==0:\n",
    "    print(\"Mickeymouse\") \n",
    "    a[i] = \"Mickeymouse\"\n",
    "    \n",
    " elif  i%3 == 0:\n",
    "    print(\"Mickey\") \n",
    "    a[i] = \"Mickey\"\n",
    "    \n",
    " elif  i%5 == 0:\n",
    "    print(\"Mouse\") \n",
    "    a[i] = \"Mouse\"\n",
    "    \n",
    "for y in range(1,100):\n",
    "    if a[y] == \"Mouse\":\n",
    "        a[y] = \"Duck\"\n",
    "    elif a[y] == \"Mickey\":\n",
    "        a[y] = \"Donald\"\n",
    "    elif a[y] == \"Mickeymouse\":\n",
    "        a[y] = \"DonaldDuck\" \n",
    "    \n",
    "    \n",
    "    \n",
    "d = tuple(a)\n",
    "print(d[5])\n",
    "print(d[15])"
   ]
  },
  {
   "cell_type": "code",
   "execution_count": null,
   "metadata": {},
   "outputs": [],
   "source": []
  },
  {
   "cell_type": "markdown",
   "metadata": {},
   "source": [
    "2\\. The swap function\n",
    "\n",
    "Write a function that swap the values of two input variables x and y (whatever the type). Try to do that also without a temporary variable"
   ]
  },
  {
   "cell_type": "code",
   "execution_count": null,
   "metadata": {},
   "outputs": [],
   "source": [
    "def swap(b,c):\n",
    "    result = (c,b)\n",
    "    return result\n",
    "\n",
    "a = swap(\"Andrea\", \"Scanu\")\n",
    "print(a)"
   ]
  },
  {
   "cell_type": "markdown",
   "metadata": {},
   "source": [
    "3\\. Computing the distance\n",
    "\n",
    "Write a function that calculates and returns the euclidean distance between two points *u* and *v*, where *u* and *v* are both 2-tuples *(x,y)*. For example, if *u=(3,0)* and *v=(0,4)*, the function should return 5"
   ]
  },
  {
   "cell_type": "code",
   "execution_count": null,
   "metadata": {},
   "outputs": [],
   "source": [
    "import math\n",
    "\n",
    "def dist(a,b):\n",
    "    result = math.sqrt((a[0]-b[0])**2 + (a[1]-b[1])**2)\n",
    "    return result\n",
    "a=(3,0)\n",
    "b=(0,4)\n",
    "   \n",
    "dist(a,b)    "
   ]
  },
  {
   "cell_type": "markdown",
   "metadata": {},
   "source": [
    "4\\. Counting letters\n",
    "\n",
    "Write a program to calculate the number of times each character occurs in a given string *s*. Ignore differneces in capitalization"
   ]
  },
  {
   "cell_type": "code",
   "execution_count": null,
   "metadata": {},
   "outputs": [],
   "source": [
    "s=\"Write a program that prints the numbers from 1 to 100. \\\n",
    "But for multiples of three print Mickey instead of the number and for the multiples of five print Mouse. \\\n",
    "For numbers which are multiples of both three and five print MickeyMouse\"\n",
    "\n",
    "\n",
    "\n",
    "def count(a):\n",
    "    s = a.upper()\n",
    "    c = 0\n",
    "    for i in range(0,len(s)):\n",
    "        for b in range(0,len(s)):\n",
    "            if s[i] == s[b]:\n",
    "                c = c+1\n",
    "        print(\"The\") \n",
    "        print(i+1)\n",
    "        print(\"Character\")\n",
    "        print(a[i])\n",
    "        print(\"has been used in the string\")\n",
    "        print(c)\n",
    "        print(\"times.\")\n",
    "        \n",
    "        c=1 \n",
    "count(s)       "
   ]
  },
  {
   "cell_type": "code",
   "execution_count": null,
   "metadata": {},
   "outputs": [],
   "source": [
    "s=\"Write a program that prints the numbers from 1 to 100. \\\n",
    "But for multiples of three print Mickey instead of the number and for the multiples of five print Mouse. \\\n",
    "For numbers which are multiples of both three and five print MickeyMouse\""
   ]
  },
  {
   "cell_type": "markdown",
   "metadata": {},
   "source": [
    "5\\. Isolating the unique\n",
    "\n",
    "Write a function that determines and count the unique numbers in the list *l*"
   ]
  },
  {
   "cell_type": "code",
   "execution_count": null,
   "metadata": {},
   "outputs": [],
   "source": [
    "l = [36, 45, 58, 3, 74, 96, 64, 45, 31, 10, 24, 19, 33, 86, 99, 18, 63, 70, 85,\n",
    " 85, 63, 47, 56, 42, 70, 84, 88, 55, 20, 54, 8, 56, 51, 79, 81, 57, 37, 91,\n",
    " 1, 84, 84, 36, 66, 9, 89, 50, 42, 91, 50, 95, 90, 98, 39, 16, 82, 31, 92, 41,\n",
    " 45, 30, 66, 70, 34, 85, 94, 5, 3, 36, 72, 91, 84, 34, 87, 75, 53, 51, 20, 89, 51, 20]"
   ]
  },
  {
   "cell_type": "code",
   "execution_count": null,
   "metadata": {
    "scrolled": true
   },
   "outputs": [],
   "source": [
    "l = [36, 45, 58, 3, 74, 96, 64, 45, 31, 10, 24, 19, 33, 86, 99, 18, 63, 70, 85,\n",
    " 85, 63, 47, 56, 42, 70, 84, 88, 55, 20, 54, 8, 56, 51, 79, 81, 57, 37, 91,\n",
    " 1, 84, 84, 36, 66, 9, 89, 50, 42, 91, 50, 95, 90, 98, 39, 16, 82, 31, 92, 41,\n",
    " 45, 30, 66, 70, 34, 85, 94, 5, 3, 36, 72, 91, 84, 34, 87, 75, 53, 51, 20, 89, 51, 20]\n",
    "m = [1,1,1,1,1,1,1,1,1,1,1,2,2,2,2,2,2,2,2,3,4,5,6]\n",
    "\n",
    "def conta(p):\n",
    "    \n",
    "    contare = 0\n",
    "    unique = [0 for i in range(0,len(p))]\n",
    "    for i in range(0,len(p)):\n",
    "        c = [0 for i in range(0,len(p))]\n",
    "        for j in range(0,len(p)):\n",
    "            if p[i] == p[j]:\n",
    "                c[j]=1\n",
    "        if sum(c) == 1:\n",
    "                contare = contare +1\n",
    "                unique[contare -1] = p[i]\n",
    "                \n",
    "   \n",
    "    unique2 = [unique[i] for i in range(0,contare)]\n",
    "    print(\"The unique numbers are:\")          \n",
    "    print(unique2)\n",
    "    print(\"There are \")\n",
    "    print(contare)\n",
    "    print(\"unique numbers.\")\n",
    "            \n",
    "           \n",
    "\n",
    "                \n",
    "          \n",
    "conta(l)"
   ]
  },
  {
   "cell_type": "code",
   "execution_count": null,
   "metadata": {},
   "outputs": [],
   "source": [
    "\" esercizio 6 \"\n",
    "\n",
    "def sq(a):\n",
    "    return a**2\n",
    "def cube(b):\n",
    "    return b**3\n",
    "\n",
    "def fifth(f):\n",
    "    return cube(f)*sq(f)\n",
    "\n",
    "fifth(3)"
   ]
  },
  {
   "cell_type": "markdown",
   "metadata": {},
   "source": [
    "6\\. Combination of functions\n",
    "\n",
    "Write two functions - one that returns the square of a number, and one that returns the cube. Now write a third function that returns the number raised to the 6th power using the two previous functions."
   ]
  },
  {
   "cell_type": "markdown",
   "metadata": {},
   "source": [
    "7\\. Cubes\n",
    "\n",
    "Create a list of the cubes of x for x in *[0, 10]* using:\n",
    "\n",
    "a) a for loop\n",
    "\n",
    "b) a list comprehension"
   ]
  },
  {
   "cell_type": "code",
   "execution_count": null,
   "metadata": {},
   "outputs": [],
   "source": [
    "cubi =[]\n",
    "for i in range(0,10):\n",
    "    cubi.append(i**3)\n",
    "\n",
    "list = [x**3 for x in range(0,10)]\n",
    "\n",
    "print(list)"
   ]
  },
  {
   "cell_type": "markdown",
   "metadata": {},
   "source": [
    "8\\. Nested list comprehension\n",
    "\n",
    "A Pythagorean triple is an integer solution to the Pythagorean theorem $a^2+b^2=c^2$. The first Pythagorean triple is (3,4,5). Find and put in a tuple all unique Pythagorean triples for the positive integers a, b and c less than 100."
   ]
  },
  {
   "cell_type": "code",
   "execution_count": 3,
   "metadata": {},
   "outputs": [
    {
     "name": "stdout",
     "output_type": "stream",
     "text": [
      "[(5, 4, 3), (10, 8, 6), (13, 12, 5), (15, 12, 9), (17, 15, 8), (20, 16, 12), (25, 20, 15), (25, 24, 7), (26, 24, 10), (29, 21, 20), (30, 24, 18), (34, 30, 16), (35, 28, 21), (37, 35, 12), (39, 36, 15), (40, 32, 24), (41, 40, 9), (45, 36, 27), (50, 40, 30), (50, 48, 14), (51, 45, 24), (52, 48, 20), (53, 45, 28), (55, 44, 33), (58, 42, 40), (60, 48, 36), (61, 60, 11), (65, 52, 39), (65, 56, 33), (65, 60, 25), (65, 63, 16), (68, 60, 32), (70, 56, 42), (73, 55, 48), (74, 70, 24), (75, 60, 45), (75, 72, 21), (78, 72, 30), (80, 64, 48), (82, 80, 18), (85, 68, 51), (85, 75, 40), (85, 77, 36), (85, 84, 13), (87, 63, 60), (89, 80, 39), (90, 72, 54), (91, 84, 35), (95, 76, 57), (97, 72, 65)]\n",
      "50\n"
     ]
    }
   ],
   "source": [
    "import random\n",
    "list = []\n",
    "\n",
    "for i in range(1,100):\n",
    "    for j in range(1,i):\n",
    "        for k in range(1,j):\n",
    "            if k**2 + j**2 == i**2:\n",
    "                list.append((i,j,k))\n",
    "\n",
    "\n",
    "print(list)\n",
    "print(len(list))"
   ]
  },
  {
   "cell_type": "markdown",
   "metadata": {},
   "source": [
    "9\\. Normalization\n",
    "\n",
    "Write a function that takes a tuple of numbers and returns it with the entries normalized to one"
   ]
  },
  {
   "cell_type": "code",
   "execution_count": null,
   "metadata": {},
   "outputs": [],
   "source": [
    "l = [36, 45, 58, 3, 74, 96, 64, 45, 31, 10, 24, 19, 33, 86, 99, 18, 63, 70, 85,\n",
    " 85, 63, 47, 56, 42, 70, 84, 88, 55, 20, 54, 8, 56, 51, 79, 81, 57, 37, 91,\n",
    " 1, 84, 84, 36, 66, 9, 89, 50, 42, 91, 50, 95, 90, 98, 39, 16, 82, 31, 92, 41,\n",
    " 45, 30, 66, 70, 34, 85, 94, 5, 3, 36, 72, 91, 84, 34, 87, 75, 53, 51, 20, 89, 51, 20]\n",
    "\n",
    "\n",
    "t = tuple(l)\n",
    "\n",
    "def fun(p):\n",
    "    lista =[]\n",
    "    for i in range(0,len(p)):\n",
    "        lista.append(p[i]/p[i])\n",
    "    h = tuple(lista)\n",
    "    return h\n",
    "\n",
    "a = fun(t)\n",
    "print(a)\n",
    "\n",
    "\n",
    "\n",
    "    \n",
    "\n",
    "    \n",
    "\n",
    "\n",
    "\n",
    "\n"
   ]
  },
  {
   "cell_type": "code",
   "execution_count": null,
   "metadata": {},
   "outputs": [],
   "source": []
  }
 ],
 "metadata": {
  "kernelspec": {
   "display_name": "Python 3",
   "language": "python",
   "name": "python3"
  },
  "language_info": {
   "codemirror_mode": {
    "name": "ipython",
    "version": 3
   },
   "file_extension": ".py",
   "mimetype": "text/x-python",
   "name": "python",
   "nbconvert_exporter": "python",
   "pygments_lexer": "ipython3",
   "version": "3.8.3"
  }
 },
 "nbformat": 4,
 "nbformat_minor": 2
}
