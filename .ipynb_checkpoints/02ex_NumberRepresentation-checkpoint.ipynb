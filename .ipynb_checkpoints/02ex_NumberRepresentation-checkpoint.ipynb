{
 "cells": [
  {
   "cell_type": "markdown",
   "metadata": {},
   "source": [
    "1\\. Write a function that converts number representation (bin<->dec<->hex)"
   ]
  },
  {
   "cell_type": "code",
   "execution_count": 2,
   "metadata": {},
   "outputs": [],
   "source": [
    "import math as m\n",
    "def dec_bin(s):\n",
    "    a = 0\n",
    "    h = []\n",
    "    d = s\n",
    "   \n",
    "    for i in range(0,s):\n",
    "        if s/(2**i) >= 1:\n",
    "            a =i \n",
    "            \n",
    "    for i in range(0, a+1):\n",
    "        d = d - 2**(a-i)\n",
    "        if d < 0:\n",
    "            d = d + 2**(a-i)\n",
    "            h.append(0)\n",
    "        else: h.append(1)\n",
    "    \n",
    "    return h\n",
    "\n",
    "def bin_dec(s):\n",
    "    a = 0\n",
    "    h = []\n",
    "    d = s\n",
    "    n = m.log(s)\n",
    " \n",
    "    g = int(n)\n",
    "    \n",
    "    for i in range(0,g):\n",
    "        if d%10 == 0:\n",
    "            h.append(0)\n",
    "        elif s%10 > 1:\n",
    "            return \"it is not a bin\"\n",
    "        else: h.append(1)\n",
    "        d = (d - d%10)/10\n",
    "    for i in range(0,len(h)):\n",
    "        a = a+h[i]*2**(i)\n",
    "    return a\n",
    "\n",
    "def hex_dec(s):\n",
    "    a = len(s)\n",
    "    l=[]\n",
    "    m =[]\n",
    "    d = 0\n",
    "    for i in range(0,a):\n",
    "        if s[i] == \"a\":\n",
    "                l.append(10)\n",
    "        elif s[i] == \"b\":\n",
    "                l.append(11)\n",
    "        elif s[i] == \"c\":\n",
    "                l.append(12)\n",
    "        elif s[i] == \"d\":\n",
    "                l.append(13)\n",
    "        elif s[i] == \"e\":\n",
    "                l.append(14)\n",
    "        elif s[i] == \"f\":\n",
    "                l.append(15)\n",
    "        else: l.append(int(s[i]))\n",
    "    for i in range(0,a):\n",
    "        m.append(l[a-i-1])\n",
    "    print(m)\n",
    "    for i in range(0,len(m)):\n",
    "        d = d+m[i]*16**(i)\n",
    "    return d"
   ]
  },
  {
   "cell_type": "code",
   "execution_count": 3,
   "metadata": {},
   "outputs": [],
   "source": [
    "def hex_bin(s):\n",
    "    a = len(s)\n",
    "    l=[]\n",
    "    m =[]\n",
    "    g = []\n",
    "    d = 0\n",
    "    for i in range(0,a):\n",
    "        if s[i] == \"a\":\n",
    "                l.append(10)\n",
    "        elif s[i] == \"b\":\n",
    "                l.append(11)\n",
    "        elif s[i] == \"c\":\n",
    "                l.append(12)\n",
    "        elif s[i] == \"d\":\n",
    "                l.append(13)\n",
    "        elif s[i] == \"e\":\n",
    "                l.append(14)\n",
    "        elif s[i] == \"f\":\n",
    "                l.append(15)\n",
    "        else: l.append(int(s[i]))\n",
    "    for i in range(0,a):\n",
    "        p = dec_bin(l[i])\n",
    "        for i in range(0,3):\n",
    "            if len(p) <4:\n",
    "                p.insert(0,0)   \n",
    "        g.append(p)\n",
    "                \n",
    "            \n",
    "    return g\n",
    "        \n",
    "    "
   ]
  },
  {
   "cell_type": "code",
   "execution_count": 26,
   "metadata": {},
   "outputs": [],
   "source": [
    "def bin_hex(s):\n",
    "    cifre=[]                \n",
    "    while(s != 0): \n",
    "        quoziente=s//10 \n",
    "        resto =s%10         \n",
    "        cifre.append(resto) \n",
    "        s=quoziente \n",
    "    cifre.reverse()\n",
    "    a = len(cifre)\n",
    "    b = a//4\n",
    "    c = a%4\n",
    "    n=[]\n",
    "    d = 0\n",
    "    for i in range(0,4-c):\n",
    "        cifre.insert(0,0)\n",
    "    for i in range(0,b):\n",
    "        for j in range(0,4):\n",
    "            d =d + cifre[len(cifre)-j-4*i-1]*2**(j)\n",
    "        n.append(d)\n",
    "        d=0\n",
    "    for j in range(0,4):\n",
    "        d = d + cifre[len(cifre)-j-4*b-1]*2**(j)\n",
    "       \n",
    "    n.append(d)\n",
    "    d = 0\n",
    "    n.reverse()\n",
    "    return n\n",
    "\n",
    "def dec_hex(s):\n",
    "    a = dec_bin(s)\n",
    "    b = 0\n",
    "    for i in range(0,len(a)):\n",
    "        b = b+ a[i]*10**(len(a)-i-1)\n",
    "    o = bin_hex(b)\n",
    "    return o\n"
   ]
  },
  {
   "cell_type": "code",
   "execution_count": 31,
   "metadata": {},
   "outputs": [
    {
     "name": "stdout",
     "output_type": "stream",
     "text": [
      "150\n",
      "[1, 0, 0, 0, 0, 0, 0]\n",
      "0b1000000\n",
      "[[0, 0, 0, 1], [0, 0, 1, 0], [0, 0, 1, 1]]\n",
      "291\n",
      "0b100100011\n",
      "[1, 1, 14]\n",
      "10000000000000\n",
      "11000000000000\n",
      "11100000000000\n",
      "11110000000000\n",
      "11111000000000\n",
      "11111000000000\n",
      "11111010000000\n",
      "11111011000000\n",
      "11111011000000\n",
      "11111011000000\n",
      "11111011000000\n",
      "11111011000100\n",
      "11111011000100\n",
      "11111011000101\n",
      "[3, 14, 12, 5]\n"
     ]
    }
   ],
   "source": [
    "n = bin_dec(10010110)\n",
    "print(n)     \n",
    "d = dec_bin(64)\n",
    "print(d)            \n",
    "print(bin(64)) \n",
    "\n",
    "k = \"123\"\n",
    "print(hex_bin(k))\n",
    "print(int(\"123\",16))\n",
    "print(bin(291))\n",
    "print(bin_hex(100011110))\n",
    "print(dec_hex(16069))"
   ]
  },
  {
   "cell_type": "markdown",
   "metadata": {},
   "source": [
    "2\\. Write a function that converts a 32 bit word into a single precision floating point (i.e. interprets the various bits as sign, mantissa and exponent)"
   ]
  },
  {
   "cell_type": "code",
   "execution_count": 32,
   "metadata": {},
   "outputs": [
    {
     "name": "stdout",
     "output_type": "stream",
     "text": [
      "segno  0 esponenete  0b1110110 mantissa  11101111011100010\n"
     ]
    }
   ],
   "source": [
    "import math as m\n",
    "def floating(s):\n",
    "    a = len(s)\n",
    "    b = []\n",
    "    sign = 0\n",
    "    virg = 0\n",
    "    f = 0\n",
    "    v = 0\n",
    "    \n",
    "    for i in range(0,a):\n",
    "        if s[i] == \"-\":\n",
    "            sign = -1\n",
    "        elif s[i] == \",\":\n",
    "            virg = i\n",
    "        else: b.append(int(s[i]))\n",
    "    i = 0\n",
    "    while i<len(b):\n",
    "        f = f + (10**(virg-i-1+sign))*b[i]\n",
    "        i =i+1\n",
    "            \n",
    "         \n",
    "  \n",
    "    if sign == 0:\n",
    "        h = f\n",
    "    else: h = sign*(f)\n",
    "    \n",
    "    ad = 0   \n",
    "\n",
    "    if sign == 0:\n",
    "        ad = (2**4)**(len(b)-virg)\n",
    "        g = int(h*ad)\n",
    "    else: \n",
    "        ad = (2**4)**(len(b)-virg+1)\n",
    "        g = int(-1*h*ad)\n",
    "    \n",
    "    \n",
    "   \n",
    "        \n",
    "    j = bin(g)\n",
    "    n = []\n",
    "    for i in range(2, len(j)):\n",
    "        n.append(int(j[i]))\n",
    "    \n",
    "    \n",
    "    espo = bin(int(len(n) - m.log(ad,2) +1 + 128))\n",
    "    \n",
    "    manti = 0\n",
    "    for i in range(0,len(n)):\n",
    "        manti = manti + n[i]*10**(len(n)-i-1) \n",
    "    print(\"segno \",sign,\"esponenete \",espo,\"mantissa \",str(manti))\n",
    "    return manti\n",
    "    \n",
    "\n",
    "\n",
    "\n",
    "a =floating(\"0,0004567\")           \n",
    "\n",
    "\n"
   ]
  },
  {
   "cell_type": "markdown",
   "metadata": {},
   "source": [
    "3\\. Write a program to determine the underflow and overflow limits (within a factor of 2) for python on your computer. \n",
    "\n",
    "**Tips**: define two variables inizialized to 1 and halve/double them enough time to exceed the under/over-flow limits  "
   ]
  },
  {
   "cell_type": "code",
   "execution_count": null,
   "metadata": {},
   "outputs": [],
   "source": [
    "a = 1\n",
    "b = 0\n",
    "i=0\n",
    "while 1.01*a != a:\n",
    "    a =1.01*a\n",
    "    i = i+1\n",
    "print(\"Overflow = 1.01**\", i)\n",
    "\n",
    "n = 1\n",
    "while n/1.01 != n:\n",
    "    n = n/1.01\n",
    "    b = b+1\n",
    "print(\"Overflow = 1.01**-\", b)\n"
   ]
  },
  {
   "cell_type": "markdown",
   "metadata": {},
   "source": [
    "4\\. Write a program to determine the machine precision\n",
    "\n",
    "**Tips**: define a new variable by adding a smaller and smaller value (proceeding similarly to prob. 2) to an original variable and check the point where the two are the same "
   ]
  },
  {
   "cell_type": "code",
   "execution_count": null,
   "metadata": {},
   "outputs": [],
   "source": [
    "l = 0\n",
    "o = 100\n",
    "print(1/o)\n",
    "while (l + 1/o) -l != 0:\n",
    "    o = o + 1\n",
    "    print(o)\n",
    "\n",
    "print(\"Machine precision = \", 1/o)"
   ]
  },
  {
   "cell_type": "markdown",
   "metadata": {},
   "source": [
    "5\\. Write a function that takes in input three parameters $a$, $b$ and $c$ and prints out the two solutions to the quadratic equation $ax^2+bx+c=0$ using the standard formula:\n",
    "$$\n",
    "x=\\frac{-b\\pm\\sqrt{b^2-4ac}}{2a}\n",
    "$$\n",
    "\n",
    "(a) use the program to compute the solution for $a=0.001$, $b=1000$ and $c=0.001$\n",
    "\n",
    "(b) re-express the standard solution formula by multiplying top and bottom by $-b\\mp\\sqrt{b^2-4ac}$ and again find the solution for $a=0.001$, $b=1000$ and $c=0.001$. How does it compare with what previously obtained? Why?\n",
    "\n",
    "(c) write a function that compute the roots of a quadratic equation accurately in all cases"
   ]
  },
  {
   "cell_type": "code",
   "execution_count": 1,
   "metadata": {},
   "outputs": [
    {
     "name": "stdout",
     "output_type": "stream",
     "text": [
      "[-9.999894245993346e-07, -999999.999999]\n",
      "[-1.0000000000009999e-06, -1000022.1222095027]\n"
     ]
    }
   ],
   "source": [
    "def fun(a,b,c):\n",
    "    d =[]\n",
    "    e = (-b + (b**2-4*a*c)**0.5)\n",
    "    f = (-b - (b**2-4*a*c)**0.5)\n",
    "    d.append(e/(2*a))\n",
    "    d.append(f/(2*a))\n",
    "    return d\n",
    "\n",
    "def fun1(a,b,c):\n",
    "    d =[]\n",
    "    n = 4*a*c\n",
    "    m = -2*a*b \n",
    "    f = 2*a*(b**2-n)**0.5\n",
    "    d.append(n/(m-f))\n",
    "    d.append(n/(m+f))\n",
    "    return(d)\n",
    "    \n",
    "\n",
    "a = fun(0.001,1000,0.001)\n",
    "print(a)\n",
    "\n",
    "b = fun1(0.001,1000,0.001)\n",
    "print(b)\n"
   ]
  },
  {
   "cell_type": "markdown",
   "metadata": {},
   "source": [
    "6\\. Write a program that implements the function $f(x)=x(x−1)$\n",
    "\n",
    "(a) Calculate the derivative of the function at the point $x = 1$ using the derivative definition:\n",
    "\n",
    "$$\n",
    "\\frac{{\\rm d}f}{{\\rm d}x} = \\lim_{\\delta\\to0} \\frac{f(x+\\delta)-f(x)}{\\delta}\n",
    "$$\n",
    "\n",
    "with $\\delta = 10^{−2}$. Calculate the true value of the same derivative analytically and compare with the answer your program gives. The two will not agree perfectly. Why not?\n",
    "\n",
    "(b) Repeat the calculation for $\\delta = 10^{−4}, 10^{−6}, 10^{−8}, 10^{−10}, 10^{−12}$ and $10^{−14}$. How does the accuracy scales with $\\delta$?"
   ]
  },
  {
   "cell_type": "code",
   "execution_count": null,
   "metadata": {},
   "outputs": [],
   "source": [
    "def funzione(x):\n",
    "    return x*(x-1)\n",
    "def deri(d):\n",
    "    a = funzione(1+d) - funzione(1)\n",
    "    print(a)\n",
    "    return a/d\n",
    "\n",
    "a = deri(0.001)\n",
    "print(a)\n",
    "\n",
    "#I due risultati non sono uguali poichè 10^-2 non è un infnitesimo ma i calcoli vengono svolti bene sino al 10^-14, numero \n",
    "# con il quale si supera a precisione della macchina.\n"
   ]
  },
  {
   "cell_type": "markdown",
   "metadata": {},
   "source": [
    "7\\. Consider the integral of the semicircle of radius 1:\n",
    "$$\n",
    "I=\\int_{-1}^{1} \\sqrt(1-x^2) {\\rm d}x\n",
    "$$\n",
    "which it's known to be $I=\\frac{\\pi}{2}=1.57079632679...$.\n",
    "Alternatively we can use the Riemann definition of the integral:\n",
    "$$\n",
    "I=\\lim_{N\\to\\infty} \\sum_{k=1}^{N} h y_k \n",
    "$$\n",
    "\n",
    "with $h=2/N$ the width of each of the $N$ slices the domain is divided into and where\n",
    "$y_k$ is the value of the function at the $k-$th slice.\n",
    "\n",
    "(a) Write a programe to compute the integral with $N=100$. How does the result compares to the true value?\n",
    "\n",
    "(b) How much can $N$ be increased if the computation needs to be run in less than a second? What is the gain in running it for 1 minute? \n"
   ]
  },
  {
   "cell_type": "code",
   "execution_count": 2,
   "metadata": {},
   "outputs": [
    {
     "name": "stdout",
     "output_type": "stream",
     "text": [
      "1min 45s ± 3.27 s per loop (mean ± std. dev. of 7 runs, 1 loop each)\n",
      "1.5395835457621132e-06\n",
      "1.5385919649446578e-08\n"
     ]
    }
   ],
   "source": [
    "import math as m\n",
    "\n",
    "def integ(a):\n",
    "    d = 0\n",
    "    for i in range(0,a):\n",
    "        d = d + 2/a*(1- (-1 + i/a)**2)**0.5\n",
    "    return d\n",
    "\n",
    "%timeit integ(65000000)\n",
    "\n",
    "print(m.pi/2 -integ(650000))\n",
    "print(m.pi/2 -integ(65000000))"
   ]
  },
  {
   "cell_type": "code",
   "execution_count": 3,
   "metadata": {},
   "outputs": [
    {
     "name": "stdout",
     "output_type": "stream",
     "text": [
      "1.06 s ± 42.5 ms per loop (mean ± std. dev. of 7 runs, 1 loop each)\n"
     ]
    }
   ],
   "source": [
    "%timeit integ(650000)"
   ]
  },
  {
   "cell_type": "code",
   "execution_count": null,
   "metadata": {},
   "outputs": [],
   "source": [
    "#il guadagno sono circa due cifre del pi greco in più"
   ]
  }
 ],
 "metadata": {
  "kernelspec": {
   "display_name": "Python 3",
   "language": "python",
   "name": "python3"
  },
  "language_info": {
   "codemirror_mode": {
    "name": "ipython",
    "version": 3
   },
   "file_extension": ".py",
   "mimetype": "text/x-python",
   "name": "python",
   "nbconvert_exporter": "python",
   "pygments_lexer": "ipython3",
   "version": "3.8.3"
  }
 },
 "nbformat": 4,
 "nbformat_minor": 2
}
